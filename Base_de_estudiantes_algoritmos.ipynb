{
  "nbformat": 4,
  "nbformat_minor": 0,
  "metadata": {
    "colab": {
      "provenance": [],
      "mount_file_id": "1ETkWrKrXhLVWd4XadF9sWxw157b9w3Uy",
      "authorship_tag": "ABX9TyPsT8GkPo+0SUxHkgKyhZ13",
      "include_colab_link": true
    },
    "kernelspec": {
      "name": "python3",
      "display_name": "Python 3"
    },
    "language_info": {
      "name": "python"
    }
  },
  "cells": [
    {
      "cell_type": "markdown",
      "metadata": {
        "id": "view-in-github",
        "colab_type": "text"
      },
      "source": [
        "<a href=\"https://colab.research.google.com/github/Crudino/Ruta-Trabajo-Final/blob/main/Base_de_estudiantes_algoritmos.ipynb\" target=\"_parent\"><img src=\"https://colab.research.google.com/assets/colab-badge.svg\" alt=\"Open In Colab\"/></a>"
      ]
    },
    {
      "cell_type": "markdown",
      "source": [
        "Cargar base de datos proporcionada por el profesor"
      ],
      "metadata": {
        "id": "lzu7TdlD_sbY"
      }
    },
    {
      "cell_type": "code",
      "source": [
        "pip install pandas\n"
      ],
      "metadata": {
        "colab": {
          "base_uri": "https://localhost:8080/"
        },
        "id": "W6UZ7DpW_0t6",
        "outputId": "12bd3309-c1e5-48fe-f30f-7a3218213057"
      },
      "execution_count": null,
      "outputs": [
        {
          "output_type": "stream",
          "name": "stdout",
          "text": [
            "Requirement already satisfied: pandas in /usr/local/lib/python3.10/dist-packages (2.0.3)\n",
            "Requirement already satisfied: python-dateutil>=2.8.2 in /usr/local/lib/python3.10/dist-packages (from pandas) (2.8.2)\n",
            "Requirement already satisfied: pytz>=2020.1 in /usr/local/lib/python3.10/dist-packages (from pandas) (2023.4)\n",
            "Requirement already satisfied: tzdata>=2022.1 in /usr/local/lib/python3.10/dist-packages (from pandas) (2024.1)\n",
            "Requirement already satisfied: numpy>=1.21.0 in /usr/local/lib/python3.10/dist-packages (from pandas) (1.25.2)\n",
            "Requirement already satisfied: six>=1.5 in /usr/local/lib/python3.10/dist-packages (from python-dateutil>=2.8.2->pandas) (1.16.0)\n"
          ]
        }
      ]
    },
    {
      "cell_type": "code",
      "source": [
        "import pandas as pd\n",
        "\n",
        "# Especifica la ruta del archivo CSV\n",
        "file_path = '/content/drive/MyDrive/Ruta Trabajo Final/apellidos.csv'\n",
        "file_path = '/content/drive/MyDrive/Ruta Trabajo Final/nombres.csv'\n",
        "\n",
        "# Carga el archivo CSV en un DataFrame\n",
        "df = pd.read_csv(file_path)\n",
        "\n",
        "# Muestra las primeras filas del DataFrame\n",
        "print(df.head())\n"
      ],
      "metadata": {
        "colab": {
          "base_uri": "https://localhost:8080/"
        },
        "id": "yie28uSvAl7O",
        "outputId": "dc6ffba1-2a47-4d81-c2cd-263cc39c67d5"
      },
      "execution_count": null,
      "outputs": [
        {
          "output_type": "stream",
          "name": "stdout",
          "text": [
            "     Santiago\n",
            "0   Valentina\n",
            "1       Mateo\n",
            "2      Camila\n",
            "3   Sebastián\n",
            "4       Sofía\n"
          ]
        }
      ]
    },
    {
      "cell_type": "markdown",
      "source": [
        "Cargar los nombres y los apellidos desde la base de datos csv"
      ],
      "metadata": {
        "id": "mtonUcZ4VVXz"
      }
    },
    {
      "cell_type": "code",
      "source": [
        "import csv\n",
        "import random\n",
        "\n",
        "# Función para cargar los nombres desde el archivo nombres.csv\n",
        "def cargar_nombres(archivo):\n",
        "    with open(archivo, mode='r', encoding='utf-8-sig') as file:\n",
        "        reader = csv.reader(file)\n",
        "        nombres = [row[0] for row in reader]\n",
        "    return nombres\n",
        "\n",
        "# Función para cargar los apellidos desde el archivo apellidos.csv\n",
        "def cargar_apellidos(archivo):\n",
        "    with open(archivo, mode='r', encoding='utf-8-sig') as file:\n",
        "        reader = csv.reader(file)\n",
        "        apellidos = [row[0] for row in reader]\n",
        "    return apellidos"
      ],
      "metadata": {
        "id": "8QAgGWGrVUFC"
      },
      "execution_count": null,
      "outputs": []
    },
    {
      "cell_type": "markdown",
      "source": [
        "Generar un listado de estudiantes unicos y el archivo plano"
      ],
      "metadata": {
        "id": "sEyTw5BcTtfZ"
      }
    },
    {
      "cell_type": "code",
      "source": [
        "# Función para generar estudiantes aleatorios\n",
        "def generar_estudiantes(nombres, apellidos, total):\n",
        "    estudiantes = []\n",
        "    semestres = list(range(1, 11))  # Suponiendo que hay 10 semestres posibles\n",
        "    for _ in range(total):\n",
        "        nombre = random.choice(nombres)\n",
        "        apellido1 = random.choice(apellidos)\n",
        "        apellido2 = random.choice(apellidos)\n",
        "        while apellido1 == apellido2:\n",
        "            apellido2 = random.choice(apellidos)\n",
        "        semestre = random.choice(semestres)\n",
        "        estudiantes.append((nombre, apellido1, apellido2, semestre))\n",
        "    return estudiantes\n",
        "\n",
        "# Función para evitar duplicados en la lista de estudiantes\n",
        "def eliminar_duplicados(estudiantes):\n",
        "    return list(set(estudiantes))\n",
        "\n",
        "# Función para almacenar la lista de estudiantes en un archivo de texto plano\n",
        "def guardar_estudiantes(estudiantes, archivo):\n",
        "    with open(archivo, mode='w', encoding='utf-8') as file:\n",
        "        writer = csv.writer(file)\n",
        "        for estudiante in estudiantes:\n",
        "            writer.writerow(estudiante)\n",
        "\n",
        "# Rutas de los archivos CSV\n",
        "archivo_nombres = '/content/drive/MyDrive/Ruta Trabajo Final/nombres.csv'\n",
        "archivo_apellidos = '/content/drive/MyDrive/Ruta Trabajo Final/apellidos.csv'\n",
        "\n",
        "# Cargar nombres y apellidos\n",
        "nombres = cargar_nombres(archivo_nombres)\n",
        "apellidos = cargar_apellidos(archivo_apellidos)\n",
        "\n",
        "# Generar estudiantes aleatorios\n",
        "estudiantes = generar_estudiantes(nombres, apellidos, 1000)\n",
        "\n",
        "# Eliminar duplicados\n",
        "estudiantes_sin_duplicados = eliminar_duplicados(estudiantes)\n",
        "\n",
        "# Guardar la lista de estudiantes en un archivo de texto plano\n",
        "archivo_estudiantes = 'estudiantes.txt'\n",
        "guardar_estudiantes(estudiantes_sin_duplicados, archivo_estudiantes)\n",
        "\n",
        "print(\"Listado de estudiantes generado y almacenado con éxito.\")"
      ],
      "metadata": {
        "colab": {
          "base_uri": "https://localhost:8080/"
        },
        "id": "6Wvxg4reVsc3",
        "outputId": "492cdf06-93c8-425a-c4e6-ba0576c6ec23"
      },
      "execution_count": null,
      "outputs": [
        {
          "output_type": "stream",
          "name": "stdout",
          "text": [
            "Listado de estudiantes generado y almacenado con éxito.\n"
          ]
        }
      ]
    },
    {
      "cell_type": "markdown",
      "source": [
        "Creación tabla de asignaturas y generar el codigo"
      ],
      "metadata": {
        "id": "HSYBFVhJeyfl"
      }
    },
    {
      "cell_type": "code",
      "source": [
        "import random\n",
        "\n",
        "# Definir la tabla de asignaturas\n",
        "tabla_asignaturas=[\n",
        "    {\"nivel\":\"Semestre 1\",\"asignatura\":\"Álgebra y Trigonometría\",\"núcleo curricular\":\"Ciencias Básicas\",\"creditos\":3},\n",
        "    {\"nivel\":\"Semestre 1\",\"asignatura\":\"Cálculo Diferencial\",\"núcleo curricular\":\"Ciencias Básicas\",\"creditos\":3},\n",
        "    {\"nivel\":\"Semestre 1\",\"asignatura\":\"Geometría vectorial y analítica\",\"núcleo curricular\":\"Ciencias Básicas\",\"creditos\":3},\n",
        "    {\"nivel\":\"Semestre 1\",\"asignatura\":\"Vivamos la Universidad\",\"núcleo curricular\":\"Ciencias Básicas\",\"creditos\":1},\n",
        "    {\"nivel\":\"Semestre 1\",\"asignatura\":\"Ingles I\",\"núcleo curricular\":\"Formación complementaria\",\"creditos\":1},\n",
        "    {\"nivel\":\"Semestre 1\",\"asignatura\":\"Lestoescritura\",\"núcleo curricular\":\"Formación complementaria\",\"creditos\":3},\n",
        "    {\"nivel\":\"Semestre 1\",\"asignatura\":\"Introducción a la ingeniería Industrial\",\"núcleo curricular\":\"Generales\",\"creditos\":1},\n",
        "    {\"nivel\":\"Semestre 2\",\"asignatura\":\"Gestión de las organizaciones\",\"núcleo curricular\":\"Administración y Finanzas\",\"creditos\":3},\n",
        "    {\"nivel\":\"Semestre 2\",\"asignatura\":\"Habilidades Gerenciales\",\"núcleo curricular\":\"Administración y Finanzas\",\"creditos\":3},\n",
        "    {\"nivel\":\"Semestre 2\",\"asignatura\":\"Álgebra Lineal\",\"núcleo curricular\":\"Ciencias Básicas\",\"creditos\":3},\n",
        "    {\"nivel\":\"Semestre 2\",\"asignatura\":\"Cálculo Integral\",\"núcleo curricular\":\"Ciencias Básicas\",\"creditos\":3},\n",
        "    {\"nivel\":\"Semestre 2\",\"asignatura\":\"Descubriendo la Física\",\"núcleo curricular\":\"Ciencias Básicas\",\"creditos\":3},\n",
        "    {\"nivel\":\"Semestre 2\",\"asignatura\":\"Inglés II\",\"núcleo curricular\":\"Formación complementaria\",\"creditos\":1},\n",
        "    {\"nivel\":\"Semestre 3\",\"asignatura\":\"Gestión Contable\",\"núcleo curricular\":\"Administración y Finanzas\",\"creditos\":3},\n",
        "    {\"nivel\":\"Semestre 3\",\"asignatura\":\"Física Mecánica\",\"núcleo curricular\":\"Ciencias Básicas\",\"creditos\":3},\n",
        "    {\"nivel\":\"Semestre 3\",\"asignatura\":\"Inglés III\",\"núcleo curricular\":\"Formación complementaria\",\"creditos\":1},\n",
        "    {\"nivel\":\"Semestre 3\",\"asignatura\":\"Algoritmia y Programación\",\"núcleo curricular\":\"Métodos cuantitativos\",\"creditos\":3},\n",
        "    {\"nivel\":\"Semestre 3\",\"asignatura\":\"Probabilidad e Inferencia Estadística\",\"núcleo curricular\":\"Métodos cuantitativos\",\"creditos\":3},\n",
        "    {\"nivel\":\"Semestre 3\",\"asignatura\":\"Teoría General de Sistemas\",\"núcleo curricular\":\"Métodos cuantitativos\",\"creditos\":3},\n",
        "    {\"nivel\":\"Semestre 4\",\"asignatura\":\"Ingeniería Económica\",\"núcleo curricular\":\"Administración y Finanzas\",\"creditos\":3},\n",
        "    {\"nivel\":\"Semestre 4\",\"asignatura\":\"Electiva en Física\",\"núcleo curricular\":\"Ciencias Básicas\",\"creditos\":3},\n",
        "    {\"nivel\":\"Semestre 4\",\"asignatura\":\"Inglés IV\",\"núcleo curricular\":\"Formación complementaria\",\"creditos\":1},\n",
        "    {\"nivel\":\"Semestre 4\",\"asignatura\":\"Diseño de Experimentos y Análisis de regresión\",\"núcleo curricular\":\"Métodos cuantitativos\",\"creditos\":3},\n",
        "    {\"nivel\":\"Semestre 4\",\"asignatura\":\"Optimización\",\"núcleo curricular\":\"Métodos cuantitativos\",\"creditos\":3},\n",
        "    {\"nivel\":\"Semestre 4\",\"asignatura\":\"Gestión de Métodos y Tiempos\",\"núcleo curricular\":\"Producción, Logística y Calidad\",\"creditos\":4},\n",
        "    {\"nivel\":\"Semestre 5\",\"asignatura\":\"Gestión Financiera\",\"núcleo curricular\":\"Administración y Finanzas\",\"creditos\":3},\n",
        "    {\"nivel\":\"Semestre 5\",\"asignatura\":\"Laboratorio Integrado de Física\",\"núcleo curricular\":\"Ciencias Básicas\",\"creditos\":1},\n",
        "    {\"nivel\":\"Semestre 5\",\"asignatura\":\"Inglés V\",\"núcleo curricular\":\"Formación complementaria\",\"creditos\":1},\n",
        "    {\"nivel\":\"Semestre 5\",\"asignatura\":\"Formación Ciudadana y Constitucional\",\"núcleo curricular\":\"Formación complementaria\",\"creditos\":1},\n",
        "    {\"nivel\":\"Semestre 5\",\"asignatura\":\"Dinámica de Sistemas\",\"núcleo curricular\":\"Métodos cuantitativos\",\"creditos\":3},\n",
        "    {\"nivel\":\"Semestre 5\",\"asignatura\":\"Muestreo y Series de Tiempo\",\"núcleo curricular\":\"Métodos cuantitativos\",\"creditos\":3},\n",
        "    {\"nivel\":\"Semestre 5\",\"asignatura\":\"Procesos Estócasticos y Análisis de Decisión\",\"núcleo curricular\":\"Métodos cuantitativos\",\"creditos\":3},\n",
        "    {\"nivel\":\"Semestre 5\",\"asignatura\":\"Gestión por procesos\",\"núcleo curricular\":\"Producción, Logística y Calidad\",\"creditos\":3},\n",
        "    {\"nivel\":\"Semestre 6\",\"asignatura\":\"Gestión Tecnológica\",\"núcleo curricular\":\"Administración y Finanzas\",\"creditos\":3},\n",
        "    {\"nivel\":\"Semestre 6\",\"asignatura\":\"Legislación\",\"núcleo curricular\":\"Administración y Finanzas\",\"creditos\":3},\n",
        "    {\"nivel\":\"Semestre 6\",\"asignatura\":\"Electiva en Humanidades I\",\"núcleo curricular\":\"Electivas Socio Humanísticas\",\"creditos\":3},\n",
        "    {\"nivel\":\"Semestre 6\",\"asignatura\":\"Inglés VI\",\"núcleo curricular\":\"Formación complementaria\",\"creditos\":1},\n",
        "    {\"nivel\":\"Semestre 6\",\"asignatura\":\"Simulación Discreta\",\"núcleo curricular\":\"Métodos cuantitativos\",\"creditos\":3},\n",
        "    {\"nivel\":\"Semestre 6\",\"asignatura\":\"Formulación de proyectos de investigación\",\"núcleo curricular\":\"Generales\",\"creditos\":3},\n",
        "    {\"nivel\":\"Semestre 6\",\"asignatura\":\"Normalización y Control de la Calidad\",\"núcleo curricular\":\"Producción, Logística y Calidad\",\"creditos\":3},\n",
        "    {\"nivel\":\"Semestre 7\",\"asignatura\":\"Formulación y Evaluación de Proyectos de inversión\",\"núcleo curricular\":\"Administración y Finanzas\",\"creditos\":3},\n",
        "    {\"nivel\":\"Semestre 7\",\"asignatura\":\"Emprendimiento\",\"núcleo curricular\":\"Administración y Finanzas\",\"creditos\":2},\n",
        "    {\"nivel\":\"Semestre 7\",\"asignatura\":\"Electiva en Humanidades II\",\"núcleo curricular\":\"Electivas Socio Humanísticas\",\"creditos\":3},\n",
        "    {\"nivel\":\"Semestre 7\",\"asignatura\":\"Énfasis Profesional I\",\"núcleo curricular\":\"'Énfasis profesional\",\"creditos\":3},\n",
        "    {\"nivel\":\"Semestre 7\",\"asignatura\":\"Electiva complementaria I\",\"núcleo curricular\":\"Formación complementaria\",\"creditos\":3},\n",
        "    {\"nivel\":\"Semestre 7\",\"asignatura\":\"Diseño de Sistemas productivos\",\"núcleo curricular\":\"Producción, Logística y Calidad\",\"creditos\":3},\n",
        "    {\"nivel\":\"Semestre 8\",\"asignatura\":\"Gestión de proyectos\",\"núcleo curricular\":\"Administración y Finanzas\",\"creditos\":3},\n",
        "    {\"nivel\":\"Semestre 8\",\"asignatura\":\"Electiva en Humanidades III\",\"núcleo curricular\":\"Electivas Socio Humanísticas\",\"creditos\":3},\n",
        "    {\"nivel\":\"Semestre 8\",\"asignatura\":\"Énfasis Profesional II\",\"núcleo curricular\":\"Énfasis Profesional\",\"creditos\":3},\n",
        "    {\"nivel\":\"Semestre 8\",\"asignatura\":\"Electiva complementaria II\",\"núcleo curricular\":\"Formación complementaria\",\"creditos\":3},\n",
        "    {\"nivel\":\"Semestre 8\",\"asignatura\":\"Administración de la Producción y del Servicio\",\"núcleo curricular\":\"Producción, Logística y Calidad\",\"creditos\":3},\n",
        "    {\"nivel\":\"Semestre 9\",\"asignatura\":\"Electiva en Humanidades IV\",\"núcleo curricular\":\"Electivas Socio Humanísticas\",\"creditos\":3},\n",
        "    {\"nivel\":\"Semestre 9\",\"asignatura\":\"Énfasis Profesional III\",\"núcleo curricular\":\"Énfasis profesional\",\"creditos\":3},\n",
        "    {\"nivel\":\"Semestre 9\",\"asignatura\":\"Electiva Complementaria III\",\"núcleo curricular\":\"Formación complementaria\",\"creditos\":3},\n",
        "    {\"nivel\":\"Semestre 9\",\"asignatura\":\"Gestión de la cadena de abastecimiento\",\"núcleo curricular\":\"Producción, Logística y Calidad\",\"creditos\":3},\n",
        "    {\"nivel\":\"Semestre 9\",\"asignatura\":\"Ingeniería del mejoramiento continuo\",\"núcleo curricular\":\"Producción, Logística y Calidad\",\"creditos\":3},\n",
        "    {\"nivel\":\"Semestre 10\",\"asignatura\":\"Práctica Profesional\",\"núcleo curricular\":\"Generales\",\"creditos\":12}\n",
        "]\n",
        "\n",
        "import random\n",
        "\n",
        "# Función para generar código único para cada asignatura\n",
        "def generar_codigo_asignatura(asignatura, semestre, creditos):\n",
        "    codigo = asignatura[:3].upper() + str(semestre).zfill(1) + str(creditos).zfill(1) + str(random.randint(0, 99)).zfill(2)\n",
        "    return codigo[:6]\n",
        "\n",
        "# Generar códigos para las asignaturas y almacenarlos en un diccionario\n",
        "codigos_asignaturas = {}\n",
        "for asignatura in tabla_asignaturas:\n",
        "    nivel = asignatura[\"nivel\"]\n",
        "    nombre_asignatura = asignatura[\"asignatura\"]\n",
        "    creditos = asignatura[\"creditos\"]\n",
        "    semestre = int(nivel.split()[1])\n",
        "\n",
        "    codigo_asignatura = generar_codigo_asignatura(nombre_asignatura, semestre, creditos)\n",
        "    codigos_asignaturas[nombre_asignatura] = codigo_asignatura\n",
        "\n",
        "# Leer el archivo de estudiantes\n",
        "ruta_archivo_estudiantes = '/content/drive/MyDrive/Ruta Trabajo Final/estudiantes.txt'\n",
        "estudiantes = []\n",
        "\n",
        "# Función para calcular las horas de trabajo docente\n",
        "def calcular_horas_docente(creditos):\n",
        "    if creditos == 4:\n",
        "        return 96\n",
        "    elif creditos == 3:\n",
        "        return 64\n",
        "    elif creditos == 2:\n",
        "        return 32\n",
        "    else:\n",
        "        return 16\n",
        "\n",
        "# Función para calcular las horas de trabajo independiente\n",
        "def calcular_horas_independiente(creditos):\n",
        "    if creditos == 4:\n",
        "        return 120\n",
        "    elif creditos == 3:\n",
        "        return 80\n",
        "    elif creditos == 2:\n",
        "        return 64\n",
        "    else:\n",
        "        return 32\n",
        "\n",
        "with open(ruta_archivo_estudiantes, 'r') as file:\n",
        "    for linea in file:\n",
        "        nombre, apellido1, apellido2, semestre = linea.strip().split(',')\n",
        "        estudiantes.append((nombre.strip(), apellido1.strip(), apellido2.strip(), semestre.strip()))\n",
        "\n",
        "# Agregar el código de asignatura a cada estudiante\n",
        "estudiantes_con_codigos = []\n",
        "for estudiante in estudiantes:\n",
        "    nombre, apellido1, apellido2, semestre = estudiante\n",
        "    nivel = f\"Semestre {semestre.strip()}\"\n",
        "    asignaturas_semestre = [a for a in tabla_asignaturas if a[\"nivel\"] == nivel]\n",
        "\n",
        "    for asignatura in asignaturas_semestre:\n",
        "        nombre_asignatura = asignatura[\"asignatura\"]\n",
        "        creditos = asignatura[\"creditos\"]\n",
        "        codigo_asignatura = generar_codigo_asignatura(nombre_asignatura, semestre, creditos)\n",
        "        horas_docente = calcular_horas_docente(creditos)  # Calculamos las horas docentes\n",
        "        horas_independiente = calcular_horas_independiente(creditos) #Calculamos las horas independientes\n",
        "        estudiantes_con_codigos.append((nombre, apellido1, apellido2, semestre, nombre_asignatura, codigo_asignatura, str(horas_docente), str(horas_independiente)))\n",
        "\n",
        "# Sobrescribir el archivo existente con los nuevos datos\n",
        "with open(ruta_archivo_estudiantes, 'w') as file:\n",
        "    for estudiante in estudiantes_con_codigos:\n",
        "        file.write(','.join(estudiante) + '\\n')\n",
        "\n",
        "# Verificar escritura de archivo\n",
        "print(f\"Archivo modificado: {ruta_archivo_estudiantes}\")\n"
      ],
      "metadata": {
        "colab": {
          "base_uri": "https://localhost:8080/"
        },
        "collapsed": true,
        "id": "A3V7AXXlUtYQ",
        "outputId": "fb754991-7fed-4f83-a146-8b68e7f10a95"
      },
      "execution_count": null,
      "outputs": [
        {
          "output_type": "stream",
          "name": "stdout",
          "text": [
            "Archivo modificado: /content/drive/MyDrive/Ruta Trabajo Final/estudiantes.txt\n"
          ]
        }
      ]
    },
    {
      "cell_type": "code",
      "source": [
        " #Datos tabla\n",
        "tabla_porcentaje = {\n",
        "    1: {'porcentaje': 0.14, 'cupo_aula': 30},\n",
        "    2: {'porcentaje': 0.13, 'cupo_aula': 30},\n",
        "    3: {'porcentaje': 0.12, 'cupo_aula': 30},\n",
        "    4: {'porcentaje': 0.11, 'cupo_aula': 25},\n",
        "    5: {'porcentaje': 0.10, 'cupo_aula': 25},\n",
        "    6: {'porcentaje': 0.10, 'cupo_aula': 25},\n",
        "    7: {'porcentaje': 0.09, 'cupo_aula': 20},\n",
        "    8: {'porcentaje': 0.08, 'cupo_aula': 20},\n",
        "    9: {'porcentaje': 0.07, 'cupo_aula': 20},\n",
        "    10: {'porcentaje': 0.06, 'cupo_aula': 10}\n",
        "}\n",
        "\n",
        "total_estudiantes = 1000\n",
        "\n",
        "# Función para calcular los grupos\n",
        "def calcular_grupos(tabla, total_estudiantes):\n",
        "    resultado = {}\n",
        "    for semestre, datos in tabla.items():\n",
        "        porcentaje = datos['porcentaje']\n",
        "        cupo_aula = datos['cupo_aula']\n",
        "\n",
        "        # Calculamos la cantidad de estudiantes para este semestre\n",
        "        estudiantes_semestre = round(total_estudiantes * porcentaje)\n",
        "\n",
        "        # Calculamos la cantidad de grupos completos y el tamaño del grupo restante\n",
        "        grupos_completos = estudiantes_semestre // cupo_aula\n",
        "        estudiantes_restantes = estudiantes_semestre % cupo_aula\n",
        "\n",
        "        if estudiantes_restantes > 0:\n",
        "            grupos_completos += 1\n",
        "\n",
        "        # Guardamos el resultado en el diccionario\n",
        "        resultado[semestre] = {\n",
        "            'estudiantes_semestre': estudiantes_semestre,\n",
        "            'grupos_completos': grupos_completos,\n",
        "            'estudiantes_restantes': estudiantes_restantes\n",
        "        }\n",
        "\n",
        "    return resultado\n",
        "\n",
        "# Ejecutamos la función\n",
        "resultado = calcular_grupos(tabla_porcentaje, total_estudiantes)\n",
        "\n",
        "# Mostramos los resultados\n",
        "for semestre, datos in resultado.items():\n",
        "    print(f\"Semestre {semestre}:\")\n",
        "    print(f\"  Estudiantes: {datos['estudiantes_semestre']}\")\n",
        "    print(f\"  Grupos completos: {datos['grupos_completos']}\")\n",
        "    if datos['estudiantes_restantes'] > 0:\n",
        "        print(f\"  Estudiantes restantes en el último grupo: {datos['estudiantes_restantes']}\")\n",
        "    print()\n"
      ],
      "metadata": {
        "colab": {
          "base_uri": "https://localhost:8080/"
        },
        "id": "wRBiclLC755q",
        "outputId": "4c06963b-f610-4243-e520-a10fb65b621c"
      },
      "execution_count": null,
      "outputs": [
        {
          "output_type": "stream",
          "name": "stdout",
          "text": [
            "Semestre 1:\n",
            "  Estudiantes: 140\n",
            "  Grupos completos: 5\n",
            "  Estudiantes restantes en el último grupo: 20\n",
            "\n",
            "Semestre 2:\n",
            "  Estudiantes: 130\n",
            "  Grupos completos: 5\n",
            "  Estudiantes restantes en el último grupo: 10\n",
            "\n",
            "Semestre 3:\n",
            "  Estudiantes: 120\n",
            "  Grupos completos: 4\n",
            "\n",
            "Semestre 4:\n",
            "  Estudiantes: 110\n",
            "  Grupos completos: 5\n",
            "  Estudiantes restantes en el último grupo: 10\n",
            "\n",
            "Semestre 5:\n",
            "  Estudiantes: 100\n",
            "  Grupos completos: 4\n",
            "\n",
            "Semestre 6:\n",
            "  Estudiantes: 100\n",
            "  Grupos completos: 4\n",
            "\n",
            "Semestre 7:\n",
            "  Estudiantes: 90\n",
            "  Grupos completos: 5\n",
            "  Estudiantes restantes en el último grupo: 10\n",
            "\n",
            "Semestre 8:\n",
            "  Estudiantes: 80\n",
            "  Grupos completos: 4\n",
            "\n",
            "Semestre 9:\n",
            "  Estudiantes: 70\n",
            "  Grupos completos: 4\n",
            "  Estudiantes restantes en el último grupo: 10\n",
            "\n",
            "Semestre 10:\n",
            "  Estudiantes: 60\n",
            "  Grupos completos: 6\n",
            "\n"
          ]
        }
      ]
    },
    {
      "cell_type": "markdown",
      "source": [
        "Planeación del semestre: distribución estudiantes por semestre y número total por semestre en cada asignatura"
      ],
      "metadata": {
        "id": "cETMtB0tWhO1"
      }
    },
    {
      "cell_type": "code",
      "source": [
        "import pandas as pd\n",
        "import os\n",
        "import logging\n",
        "import time\n",
        "import platform\n",
        "from datetime import datetime\n",
        "\n",
        "# Configurar el logger\n",
        "log_filename = 'evento_log.txt'\n",
        "logging.basicConfig(filename=log_filename, level=logging.INFO,\n",
        "                    format='%(asctime)s\\t%(message)s',\n",
        "                    datefmt='%Y-%m-%d %H:%M:%S,%f')\n",
        "\n",
        "# Información del sistema y usuario\n",
        "try:\n",
        "    user = os.getlogin()\n",
        "except OSError:\n",
        "    user = os.getenv('USER') or os.getenv('USERNAME') or 'unknown_user'\n",
        "\n",
        "system_info = platform.uname()\n",
        "header_info = f\"Usuario: {user}\\nSistema Operativo: {system_info.system}\\nPlataforma: {platform.platform()}\\n\"\n",
        "logging.info(header_info)\n",
        "\n",
        "# Medir tiempo de ejecución\n",
        "start_time = time.time()\n",
        "\n",
        "# Lectura del archivo plano con información de los estudiantes\n",
        "file_path = '/content/drive/MyDrive/Ruta Trabajo Final/estudiantes.txt'  # Ajusta la ruta según sea necesario\n",
        "try:\n",
        "    # Leer el archivo con nombres de columnas predefinidos\n",
        "    data = pd.read_csv(file_path, delimiter=',', names=['nombre', 'apellido1', 'apellido2', 'semestre', 'nombre_asignatura', 'codigo_asignatura', 'horas_trabajo_docente', 'horas_trabajo_independiente'])\n",
        "except Exception as e:\n",
        "    logging.error(f\"Error al leer el archivo {file_path}: {e}\")\n",
        "    raise\n",
        "\n",
        "# Verificación de las columnas del DataFrame\n",
        "print(\"Columnas del DataFrame:\", data.columns)\n",
        "\n",
        "# Información de grupos por semestre\n",
        "grupos_info = {\n",
        "    1: {'total_estudiantes': 140, 'grupos_completos': 4, 'estudiantes_por_grupo': 30, 'restantes': 20},\n",
        "    2: {'total_estudiantes': 130, 'grupos_completos': 4, 'estudiantes_por_grupo': 30, 'restantes': 10},\n",
        "    3: {'total_estudiantes': 120, 'grupos_completos': 4, 'estudiantes_por_grupo': 30, 'restantes': 0},\n",
        "    4: {'total_estudiantes': 110, 'grupos_completos': 4, 'estudiantes_por_grupo': 25, 'restantes': 10},\n",
        "    5: {'total_estudiantes': 100, 'grupos_completos': 4, 'estudiantes_por_grupo': 25, 'restantes': 0},\n",
        "    6: {'total_estudiantes': 100, 'grupos_completos': 4, 'estudiantes_por_grupo': 25, 'restantes': 0},\n",
        "    7: {'total_estudiantes': 90, 'grupos_completos': 4, 'estudiantes_por_grupo': 20, 'restantes': 10},\n",
        "    8: {'total_estudiantes': 80, 'grupos_completos': 4, 'estudiantes_por_grupo': 20, 'restantes': 0},\n",
        "    9: {'total_estudiantes': 70, 'grupos_completos': 3, 'estudiantes_por_grupo': 20, 'restantes': 10},\n",
        "    10: {'total_estudiantes': 60, 'grupos_completos': 6, 'estudiantes_por_grupo': 10, 'restantes': 0}\n",
        "}\n",
        "\n",
        "# Estructura de las carpetas y archivos\n",
        "ruta_base = '/content/drive/MyDrive/Ruta Trabajo Final'\n",
        "semestres = data['semestre'].unique()\n",
        "\n",
        "# Contadores de acciones\n",
        "acciones = 0\n",
        "\n",
        "for semestre in semestres:\n",
        "    ruta_semestre = os.path.join(ruta_base, f'Semestre_{semestre}')\n",
        "    if not os.path.exists(ruta_semestre):\n",
        "        os.makedirs(ruta_semestre)\n",
        "        acciones += 1\n",
        "        logging.info(f\"Creada la carpeta para el semestre: {ruta_semestre}\")\n",
        "\n",
        "    asignaturas = data[data['semestre'] == semestre]['nombre_asignatura'].unique()\n",
        "\n",
        "    for asignatura in asignaturas:\n",
        "        ruta_asignatura = os.path.join(ruta_semestre, asignatura.replace(' ', '_'))\n",
        "        if not os.path.exists(ruta_asignatura):\n",
        "            os.makedirs(ruta_asignatura)\n",
        "            acciones += 1\n",
        "            logging.info(f\"Creada la carpeta para la asignatura: {ruta_asignatura}\")\n",
        "\n",
        "        estudiantes = data[(data['semestre'] == semestre) & (data['nombre_asignatura'] == asignatura)]\n",
        "\n",
        "        # Información de grupos para el semestre actual\n",
        "        info_grupo = grupos_info[semestre]\n",
        "        estudiantes_por_grupo = info_grupo['estudiantes_por_grupo']\n",
        "        grupos_completos = info_grupo['grupos_completos']\n",
        "        restantes = info_grupo['restantes']\n",
        "\n",
        "        # División de estudiantes en grupos completos\n",
        "        start_index = 0\n",
        "        grupo = 1\n",
        "\n",
        "        # Crear grupos completos\n",
        "        while grupo <= grupos_completos:\n",
        "            end_index = start_index + estudiantes_por_grupo\n",
        "            estudiantes_grupo = estudiantes.iloc[start_index:end_index]\n",
        "            start_index = end_index\n",
        "\n",
        "            if not estudiantes_grupo.empty:\n",
        "                # Nombre de los archivos\n",
        "                codigo_asignatura = estudiantes_grupo['codigo_asignatura'].iloc[0]\n",
        "                nombre_curso = asignatura.replace(' ', '').capitalize()\n",
        "                cantidad_estudiantes = len(estudiantes_grupo)\n",
        "                codigo_grupo = grupo\n",
        "\n",
        "                # Insertar columna de fecha de creación\n",
        "                fecha_creacion = datetime.now().strftime('%Y%m%d')\n",
        "                estudiantes_grupo.insert(7, 'fecha_creacion', fecha_creacion)\n",
        "\n",
        "                archivo_excel = f\"{codigo_asignatura}-{nombre_curso}-{cantidad_estudiantes}-{codigo_grupo}.xlsx\"\n",
        "                archivo_csv = f\"{codigo_asignatura}-{nombre_curso}-{cantidad_estudiantes}-{codigo_grupo}.csv\"\n",
        "\n",
        "                # Guardar en Excel\n",
        "                excel_path = os.path.join(ruta_asignatura, archivo_excel)\n",
        "                estudiantes_grupo.to_excel(excel_path, index=False)\n",
        "                acciones += 1\n",
        "                logging.info(f\"Guardado archivo Excel: {excel_path}\")\n",
        "\n",
        "                # Guardar en CSV\n",
        "                csv_path = os.path.join(ruta_asignatura, archivo_csv)\n",
        "                estudiantes_grupo.to_csv(csv_path, index=False)\n",
        "                acciones += 1\n",
        "                logging.info(f\"Guardado archivo CSV: {csv_path}\")\n",
        "\n",
        "            grupo += 1\n",
        "\n",
        "        # Crear el grupo restante si hay estudiantes restantes\n",
        "        if restantes > 0:\n",
        "            estudiantes_grupo = estudiantes.iloc[start_index:start_index + restantes]\n",
        "\n",
        "            if not estudiantes_grupo.empty:\n",
        "                # Nombre de los archivos\n",
        "                codigo_asignatura = estudiantes_grupo['codigo_asignatura'].iloc[0]\n",
        "                nombre_curso = asignatura.replace(' ', '').capitalize()\n",
        "                cantidad_estudiantes = len(estudiantes_grupo)\n",
        "                codigo_grupo = grupo\n",
        "\n",
        "                # Insertar columna de fecha de creación\n",
        "                fecha_creacion = datetime.now\n",
        "\n",
        "                # Tiempo total de ejecución\n",
        "print(\"Tiempo total de ejecución:\", round(time.time() - start_time, 2), \"segundos\")\n"
      ],
      "metadata": {
        "colab": {
          "base_uri": "https://localhost:8080/"
        },
        "id": "zI_obvsPCeag",
        "outputId": "8f0f34f2-e570-48c5-fb1d-9809445ef149"
      },
      "execution_count": 35,
      "outputs": [
        {
          "output_type": "stream",
          "name": "stdout",
          "text": [
            "Columnas del DataFrame: Index(['nombre', 'apellido1', 'apellido2', 'semestre', 'nombre_asignatura',\n",
            "       'codigo_asignatura', 'horas_trabajo_docente',\n",
            "       'horas_trabajo_independiente'],\n",
            "      dtype='object')\n",
            "Tiempo total de ejecución: 8.11 segundos\n"
          ]
        }
      ]
    },
    {
      "cell_type": "code",
      "source": [
        "import logging\n",
        "import platform\n",
        "\n",
        "# Especificar la ruta completa del archivo de log\n",
        "log_filename = '/content/drive/MyDrive/Ruta Trabajo Final/evento_log.txt'\n",
        "\n",
        "# Configurar el logger con la ruta completa del archivo de log\n",
        "logging.basicConfig(filename=log_filename, level=logging.INFO,\n",
        "                    format='%(asctime)s\\t%(message)s',\n",
        "                    datefmt='%Y-%m-%d %H:%M:%S,%f')\n",
        "\n",
        "# Información del sistema y usuario\n",
        "try:\n",
        "    user = os.getlogin()\n",
        "except OSError:\n",
        "    user = os.getenv('USER') or os.getenv('USERNAME') or 'unknown_user'\n",
        "\n",
        "system_info = platform.uname()\n",
        "header_info = f\"Usuario: {user}\\nSistema Operativo: {system_info.system}\\nPlataforma: {platform.platform()}\\n\"\n",
        "logging.info(header_info)\n",
        "\n"
      ],
      "metadata": {
        "id": "HQxmIcEVSkKb"
      },
      "execution_count": 40,
      "outputs": []
    }
  ]
}